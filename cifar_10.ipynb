{
  "nbformat": 4,
  "nbformat_minor": 0,
  "metadata": {
    "colab": {
      "name": "cifar_10.ipynb",
      "provenance": [],
      "collapsed_sections": [],
      "authorship_tag": "ABX9TyOxoiL7GX38QcyhiDuER3I7",
      "include_colab_link": true
    },
    "kernelspec": {
      "name": "python3",
      "display_name": "Python 3"
    },
    "language_info": {
      "name": "python"
    }
  },
  "cells": [
    {
      "cell_type": "markdown",
      "metadata": {
        "id": "view-in-github",
        "colab_type": "text"
      },
      "source": [
        "<a href=\"https://colab.research.google.com/github/TonyNguyen001/BaiTapAI/blob/main/cifar_10.ipynb\" target=\"_parent\"><img src=\"https://colab.research.google.com/assets/colab-badge.svg\" alt=\"Open In Colab\"/></a>"
      ]
    },
    {
      "cell_type": "code",
      "execution_count": 1,
      "metadata": {
        "id": "4cwqmRBqd6Qp"
      },
      "outputs": [],
      "source": [
        "#import thư viện\n",
        "import numpy as np #thư viện xử lý ma trận\n",
        "from keras.utils import np_utils # thư viện xử lý chuyển class\n",
        "from keras.datasets import cifar10 # gọi tập dataset động vật, máy bay \n",
        "from keras.models import Sequential # hàm chạy mô hình\n",
        "from keras.layers import Dense, Dropout # tạo mạng nơ ron\n",
        "from tensorflow.keras.optimizers import RMSprop \n",
        "import matplotlib.pyplot as plt  # thư viện dùng để vẽ\n",
        "from keras.backend import dropout"
      ]
    },
    {
      "cell_type": "code",
      "source": [
        "# chia tập dữ liệu thành 2 bộ train và test\n",
        "(x_train, y_train),(x_test,y_test) = cifar10.load_data()"
      ],
      "metadata": {
        "colab": {
          "base_uri": "https://localhost:8080/"
        },
        "id": "UdBCxy0IeB0O",
        "outputId": "baa2716a-acc3-4b8f-f605-e971943b205a"
      },
      "execution_count": 2,
      "outputs": [
        {
          "output_type": "stream",
          "name": "stdout",
          "text": [
            "Downloading data from https://www.cs.toronto.edu/~kriz/cifar-10-python.tar.gz\n",
            "170500096/170498071 [==============================] - 3s 0us/step\n",
            "170508288/170498071 [==============================] - 3s 0us/step\n"
          ]
        }
      ]
    },
    {
      "cell_type": "code",
      "source": [
        "# xem kích thược của tập dữ liệu\n",
        "print('Kích thước x_train: ', x_train.shape)\n",
        "print('Kích thước y_train: ', y_train.shape)\n",
        "print('Kích thước x_test: ', x_test.shape)\n",
        "print('Kích thước y_test: ', y_test.shape)"
      ],
      "metadata": {
        "colab": {
          "base_uri": "https://localhost:8080/"
        },
        "id": "M-L-kMEWeEzj",
        "outputId": "f7085f45-7c50-49db-a875-f72077ecc661"
      },
      "execution_count": 3,
      "outputs": [
        {
          "output_type": "stream",
          "name": "stdout",
          "text": [
            "Kích thước x_train:  (50000, 32, 32, 3)\n",
            "Kích thước y_train:  (50000, 1)\n",
            "Kích thước x_test:  (10000, 32, 32, 3)\n",
            "Kích thước y_test:  (10000, 1)\n"
          ]
        }
      ]
    },
    {
      "cell_type": "code",
      "source": [
        "#chuyển chiều của x từ 3 chiều về 2 chiều VÌ cifar10 ở đầu vào có 4 chiều để chuyển về\n",
        "# 2 chiều bằng cách 32*32*3=3072\n",
        "x_train = x_train.reshape(50000,3072)\n",
        "x_test = x_test.reshape(10000,3072)\n",
        "# ép kiểu\n",
        "x_train = x_train.astype('float32')\n",
        "x_test = x_test.astype('float32')\n",
        "#chuẩn hóa dữ liệu\n",
        "x_train /=255\n",
        "x_test /=255\n",
        "#chuyển y từ 1 class thành 10 class\n",
        "y_train = np_utils.to_categorical(y_train,10)\n",
        "y_test = np_utils.to_categorical(y_test,10)"
      ],
      "metadata": {
        "id": "Uak8yUUdeIJK"
      },
      "execution_count": 4,
      "outputs": []
    },
    {
      "cell_type": "code",
      "source": [
        "#tạo mạng nơ-ron\n",
        "model = Sequential()\n",
        "model.add(Dense(512,activation='relu',input_shape=(3072,)))\n",
        "model.add(Dropout(0.2))\n",
        "model.add(Dense(512,activation='relu'))\n",
        "model.add(Dropout(0.2))\n",
        "model.add(Dense(10,activation='softmax'))\n",
        "model.summary()"
      ],
      "metadata": {
        "colab": {
          "base_uri": "https://localhost:8080/"
        },
        "id": "aQtnuzA6eLNi",
        "outputId": "c3602dfa-90a4-4baa-a958-dc15f0f2aacf"
      },
      "execution_count": 5,
      "outputs": [
        {
          "output_type": "stream",
          "name": "stdout",
          "text": [
            "Model: \"sequential\"\n",
            "_________________________________________________________________\n",
            " Layer (type)                Output Shape              Param #   \n",
            "=================================================================\n",
            " dense (Dense)               (None, 512)               1573376   \n",
            "                                                                 \n",
            " dropout (Dropout)           (None, 512)               0         \n",
            "                                                                 \n",
            " dense_1 (Dense)             (None, 512)               262656    \n",
            "                                                                 \n",
            " dropout_1 (Dropout)         (None, 512)               0         \n",
            "                                                                 \n",
            " dense_2 (Dense)             (None, 10)                5130      \n",
            "                                                                 \n",
            "=================================================================\n",
            "Total params: 1,841,162\n",
            "Trainable params: 1,841,162\n",
            "Non-trainable params: 0\n",
            "_________________________________________________________________\n"
          ]
        }
      ]
    },
    {
      "cell_type": "code",
      "source": [
        "#chạy model với số lần học là 20 và độ kiên nhẫn là 100\n",
        "model.compile(loss='categorical_crossentropy',optimizer=RMSprop(), metrics=['accuracy'])\n",
        "model.compile(loss='categorical_crossentropy',optimizer=RMSprop(), metrics=['accuracy'])\n",
        "from keras.callbacks import EarlyStopping\n",
        "history = model.fit(x_train,y_train,batch_size=128,epochs=20,verbose=1,\n",
        "                    validation_split=0.2,callbacks=[EarlyStopping(monitor='val_loss',patience=100)])"
      ],
      "metadata": {
        "colab": {
          "base_uri": "https://localhost:8080/"
        },
        "id": "dqny2N2ReNw6",
        "outputId": "a854eec7-dcde-4912-bb2c-58a210531b68"
      },
      "execution_count": 6,
      "outputs": [
        {
          "output_type": "stream",
          "name": "stdout",
          "text": [
            "Epoch 1/20\n",
            "313/313 [==============================] - 17s 45ms/step - loss: 2.1993 - accuracy: 0.2363 - val_loss: 1.9455 - val_accuracy: 0.2796\n",
            "Epoch 2/20\n",
            "313/313 [==============================] - 11s 36ms/step - loss: 1.8792 - accuracy: 0.3207 - val_loss: 1.7817 - val_accuracy: 0.3676\n",
            "Epoch 3/20\n",
            "313/313 [==============================] - 11s 36ms/step - loss: 1.8062 - accuracy: 0.3505 - val_loss: 1.7242 - val_accuracy: 0.3832\n",
            "Epoch 4/20\n",
            "313/313 [==============================] - 11s 36ms/step - loss: 1.7563 - accuracy: 0.3669 - val_loss: 1.7063 - val_accuracy: 0.3935\n",
            "Epoch 5/20\n",
            "313/313 [==============================] - 11s 36ms/step - loss: 1.7155 - accuracy: 0.3841 - val_loss: 1.6660 - val_accuracy: 0.4142\n",
            "Epoch 6/20\n",
            "313/313 [==============================] - 11s 36ms/step - loss: 1.6905 - accuracy: 0.3934 - val_loss: 1.6658 - val_accuracy: 0.4044\n",
            "Epoch 7/20\n",
            "313/313 [==============================] - 11s 36ms/step - loss: 1.6577 - accuracy: 0.4071 - val_loss: 1.6557 - val_accuracy: 0.4069\n",
            "Epoch 8/20\n",
            "313/313 [==============================] - 12s 37ms/step - loss: 1.6410 - accuracy: 0.4096 - val_loss: 1.6596 - val_accuracy: 0.4142\n",
            "Epoch 9/20\n",
            "313/313 [==============================] - 11s 36ms/step - loss: 1.6223 - accuracy: 0.4162 - val_loss: 1.5861 - val_accuracy: 0.4469\n",
            "Epoch 10/20\n",
            "313/313 [==============================] - 13s 41ms/step - loss: 1.6039 - accuracy: 0.4245 - val_loss: 1.6132 - val_accuracy: 0.4291\n",
            "Epoch 11/20\n",
            "313/313 [==============================] - 11s 36ms/step - loss: 1.5944 - accuracy: 0.4273 - val_loss: 1.6366 - val_accuracy: 0.4290\n",
            "Epoch 12/20\n",
            "313/313 [==============================] - 11s 36ms/step - loss: 1.5822 - accuracy: 0.4330 - val_loss: 1.6138 - val_accuracy: 0.4249\n",
            "Epoch 13/20\n",
            "313/313 [==============================] - 11s 36ms/step - loss: 1.5693 - accuracy: 0.4400 - val_loss: 1.5967 - val_accuracy: 0.4378\n",
            "Epoch 14/20\n",
            "313/313 [==============================] - 11s 36ms/step - loss: 1.5630 - accuracy: 0.4412 - val_loss: 1.5784 - val_accuracy: 0.4490\n",
            "Epoch 15/20\n",
            "313/313 [==============================] - 11s 36ms/step - loss: 1.5491 - accuracy: 0.4465 - val_loss: 1.5789 - val_accuracy: 0.4399\n",
            "Epoch 16/20\n",
            "313/313 [==============================] - 11s 36ms/step - loss: 1.5413 - accuracy: 0.4478 - val_loss: 1.5718 - val_accuracy: 0.4336\n",
            "Epoch 17/20\n",
            "313/313 [==============================] - 11s 36ms/step - loss: 1.5355 - accuracy: 0.4491 - val_loss: 1.6161 - val_accuracy: 0.4331\n",
            "Epoch 18/20\n",
            "313/313 [==============================] - 11s 36ms/step - loss: 1.5295 - accuracy: 0.4536 - val_loss: 1.6198 - val_accuracy: 0.4321\n",
            "Epoch 19/20\n",
            "313/313 [==============================] - 11s 36ms/step - loss: 1.5148 - accuracy: 0.4588 - val_loss: 1.6713 - val_accuracy: 0.4274\n",
            "Epoch 20/20\n",
            "313/313 [==============================] - 11s 37ms/step - loss: 1.5197 - accuracy: 0.4572 - val_loss: 1.5139 - val_accuracy: 0.4708\n"
          ]
        }
      ]
    },
    {
      "cell_type": "code",
      "source": [
        "#đánh giá chất lượng của mô hình và vẽ lại\n",
        "score = model.evaluate(x_test,y_test,verbose=0)\n",
        "print('Sai số kiểm tra là: ',score[0])\n",
        "print('Độ chính xác kiểm tra là: ',score[1])\n",
        "#vẽ đồ thị\n",
        "plt.plot(history.history['accuracy'])\n",
        "plt.plot(history.history['val_accuracy'])\n",
        "plt.title('model accuracy')\n",
        "plt.ylabel('accuracy')\n",
        "plt.xlabel('epochs')\n",
        "plt.legend(['train','Validation'])\n",
        "plt.show()"
      ],
      "metadata": {
        "colab": {
          "base_uri": "https://localhost:8080/",
          "height": 330
        },
        "id": "Hr_la3ObeSGK",
        "outputId": "0f2d343e-6183-4f47-c8f2-e5d07b1b06f9"
      },
      "execution_count": 7,
      "outputs": [
        {
          "output_type": "stream",
          "name": "stdout",
          "text": [
            "Sai số kiểm tra là:  1.4923315048217773\n",
            "Độ chính xác kiểm tra là:  0.4693000018596649\n"
          ]
        },
        {
          "output_type": "display_data",
          "data": {
            "text/plain": [
              "<Figure size 432x288 with 1 Axes>"
            ],
            "image/png": "[encoded data removed]"
          },
          "metadata": {
            "needs_background": "light"
          }
        }
      ]
    },
    {
      "cell_type": "code",
      "source": [
        "model.save('model_cifar10.h5')"
      ],
      "metadata": {
        "id": "wV9payMkl3qq"
      },
      "execution_count": 8,
      "outputs": []
    }
  ]
}