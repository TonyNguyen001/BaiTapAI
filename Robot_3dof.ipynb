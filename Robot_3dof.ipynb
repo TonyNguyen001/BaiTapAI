{
  "cells": [
    {
      "cell_type": "markdown",
      "metadata": {
        "id": "view-in-github",
        "colab_type": "text"
      },
      "source": [
        "<a href=\"https://colab.research.google.com/github/TonyNguyen001/BaiTapAI/blob/main/Robot_3dof.ipynb\" target=\"_parent\"><img src=\"https://colab.research.google.com/assets/colab-badge.svg\" alt=\"Open In Colab\"/></a>"
      ]
    },
    {
      "cell_type": "code",
      "execution_count": 2,
      "metadata": {
        "id": "XvjRIhvYyodw"
      },
      "outputs": [],
      "source": [
        "import numpy as np\n",
        "import pandas as pd \n",
        "import seaborn as sns \n",
        "import matplotlib.pyplot as plt \n",
        "from sklearn.preprocessing import StandardScaler \n",
        "from sklearn.model_selection import train_test_split\n",
        "from keras.layers import Dense, Activation, Dropout, BatchNormalization, LSTM\n",
        "from keras.models import Sequential\n",
        "from tensorflow.keras.utils import to_categorical\n",
        "from keras import callbacks\n",
        "from sklearn.metrics import precision_score, recall_score, confusion_matrix, classification_report, accuracy_score, f1_score"
      ]
    },
    {
      "cell_type": "code",
      "execution_count": 3,
      "metadata": {
        "colab": {
          "base_uri": "https://localhost:8080/"
        },
        "id": "esqPi7fx4iUy",
        "outputId": "ee93d174-5e20-4222-c0df-cc3b24c02754"
      },
      "outputs": [
        {
          "output_type": "stream",
          "name": "stdout",
          "text": [
            "Drive already mounted at /content/drive; to attempt to forcibly remount, call drive.mount(\"/content/drive\", force_remount=True).\n"
          ]
        }
      ],
      "source": [
        "from google.colab import drive\n",
        "drive.mount('/content/drive')"
      ]
    },
    {
      "cell_type": "code",
      "execution_count": 4,
      "metadata": {
        "id": "-D2QFcEHy_VX"
      },
      "outputs": [],
      "source": [
        "import csv\n",
        "import math as m\n",
        "l1 = 50\n",
        "l2 = 40\n",
        "l3 = 20\n",
        "with open('Robot_3dof.csv','w') as file:\n",
        "  writer = csv.writer(file)\n",
        "  writer.writerow(['tt1','tt2','tt3','Px','Py','T'])\n",
        "\n",
        "  for tt1 in range(-150,180,1):\n",
        "    for tt2 in range(-130,170,1):\n",
        "      for tt3 in range(-110,160,1):\n",
        "        Px = l1*m.cos(tt1) + l2*m.cos(tt1+tt2) + l3*m.cos(tt1+tt2+tt3)\n",
        "        Py = l1*m.sin(tt1) + l2*m.sin(tt1+tt2) + l3*m.sin(tt1+tt2+tt3)\n",
        "        T = tt1+tt2+tt3\n",
        "        writer.writerow([tt1,tt2,tt3,Px,Py,T])\n",
        "data=pd.read_csv('Robot_3dof.csv')\n",
        "data\n",
        "x=data.drop(data.columns[:3],axis=1)\n",
        "y=data.drop(data.columns[3:],axis=1)\n",
        "x_train,x_test,y_train,y_test=train_test_split(x,y,test_size=0.25,random_state=10)"
      ]
    },
    {
      "cell_type": "code",
      "execution_count": 6,
      "metadata": {
        "colab": {
          "base_uri": "https://localhost:8080/",
          "height": 677
        },
        "id": "k8zUVPx62rZp",
        "outputId": "dc23e821-be75-43a3-de88-e248aaaf6aec"
      },
      "outputs": [
        {
          "output_type": "stream",
          "name": "stdout",
          "text": [
            "Model: \"sequential_1\"\n",
            "_________________________________________________________________\n",
            " Layer (type)                Output Shape              Param #   \n",
            "=================================================================\n",
            " dense_5 (Dense)             (None, 512)               2048      \n",
            "                                                                 \n",
            " dense_6 (Dense)             (None, 500)               256500    \n",
            "                                                                 \n",
            " dense_7 (Dense)             (None, 300)               150300    \n",
            "                                                                 \n",
            " dense_8 (Dense)             (None, 100)               30100     \n",
            "                                                                 \n",
            " dense_9 (Dense)             (None, 3)                 303       \n",
            "                                                                 \n",
            "=================================================================\n",
            "Total params: 439,251\n",
            "Trainable params: 439,251\n",
            "Non-trainable params: 0\n",
            "_________________________________________________________________\n",
            "156622/156622 [==============================] - 2737s 17ms/step - loss: nan - accuracy: 0.3403 - val_loss: nan - val_accuracy: 0.3343\n",
            "Sai so kiem tra la: nan\n",
            "Do chinh xac kiem tra la: 0.33429569005966187\n"
          ]
        },
        {
          "output_type": "display_data",
          "data": {
            "text/plain": [
              "<Figure size 432x288 with 1 Axes>"
            ],
            "image/png": "[encoded data removed]"
          },
          "metadata": {
            "needs_background": "light"
          }
        }
      ],
      "source": [
        "from tensorflow.keras.optimizers import RMSprop\n",
        "from keras.callbacks import EarlyStopping\n",
        "model=Sequential()\n",
        "model.add(Dense(512,activation='relu',input_shape=(3,)))\n",
        "model.add(Dense(500,activation='relu'))\n",
        "model.add(Dense(300,activation='relu'))\n",
        "model.add(Dense(100,activation='relu'))\n",
        "model.add(Dense(3,activation='softmax'))\n",
        "model.summary()\n",
        "\n",
        "model.compile(loss='categorical_crossentropy',optimizer=RMSprop(),metrics=['accuracy'])\n",
        "history = model.fit(x_train,y_train,batch_size = 128,epochs=1,verbose=1,callbacks=[EarlyStopping(monitor='val_loss',patience=20)],validation_data = (x_test, y_test))\n",
        "\n",
        "score = model.evaluate(x_test, y_test,verbose=0)\n",
        "print('Sai so kiem tra la:', score[0])\n",
        "print('Do chinh xac kiem tra la:', score[1])\n",
        "\n",
        "model.save('Model_Robot_3dof.h5')\n",
        "from tensorflow.keras.models import load_model\n",
        "model = load_model('Model_Robot_3dof.h5')\n",
        "\n",
        "plt.plot(history.history['accuracy'])\n",
        "plt.plot(history.history['val_accuracy'])\n",
        "plt.title('Model accuracy')\n",
        "plt.ylabel('accuracy')\n",
        "plt.xlabel('Epochs')\n",
        "plt.legend(['train','Validation'])\n",
        "plt.show()"
      ]
    },
    {
      "cell_type": "markdown",
      "metadata": {
        "id": "KMgvil26Kjkz"
      },
      "source": [
        "# New Section"
      ]
    }
  ],
  "metadata": {
    "colab": {
      "collapsed_sections": [],
      "name": "Robot_3dof.ipynb",
      "provenance": [],
      "mount_file_id": "12aoNSQzzJBpQv48An7QE9laqvHNoAxd6",
      "authorship_tag": "ABX9TyOycFR71R+C7UtsDTn3fgdS",
      "include_colab_link": true
    },
    "kernelspec": {
      "display_name": "Python 3",
      "name": "python3"
    },
    "language_info": {
      "name": "python"
    }
  },
  "nbformat": 4,
  "nbformat_minor": 0
}