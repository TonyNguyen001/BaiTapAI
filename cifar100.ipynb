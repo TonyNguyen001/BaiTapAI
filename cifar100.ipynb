{
  "nbformat": 4,
  "nbformat_minor": 0,
  "metadata": {
    "colab": {
      "name": "cifar100.ipynb",
      "provenance": [],
      "collapsed_sections": [],
      "authorship_tag": "ABX9TyN0SZsf/YsjrEhJM3G3SwNl",
      "include_colab_link": true
    },
    "kernelspec": {
      "name": "python3",
      "display_name": "Python 3"
    },
    "language_info": {
      "name": "python"
    }
  },
  "cells": [
    {
      "cell_type": "markdown",
      "metadata": {
        "id": "view-in-github",
        "colab_type": "text"
      },
      "source": [
        "<a href=\"https://colab.research.google.com/github/TonyNguyen001/BaiTapAI/blob/main/cifar100.ipynb\" target=\"_parent\"><img src=\"https://colab.research.google.com/assets/colab-badge.svg\" alt=\"Open In Colab\"/></a>"
      ]
    },
    {
      "cell_type": "code",
      "execution_count": 3,
      "metadata": {
        "id": "XXDe5T4feYPC"
      },
      "outputs": [],
      "source": [
        "#import thư viện\n",
        "import numpy as np #thư viện xử lý ma trận\n",
        "from keras.utils import np_utils # thư viện xử lý chuyển class\n",
        "from keras.datasets import cifar100 # gọi tập dataset động vật, máy bay \n",
        "from keras.models import Sequential # hàm chạy mô hình\n",
        "from keras.layers import Dense, Dropout # tạo mạng nơ ron\n",
        "from tensorflow.keras.optimizers import RMSprop \n",
        "import matplotlib.pyplot as plt  # thư viện dùng để vẽ\n",
        "from keras.backend import dropout"
      ]
    },
    {
      "cell_type": "code",
      "source": [
        "# chia tập dữ liệu thành 2 bộ train và test\n",
        "(x_train, y_train),(x_test,y_test) = cifar100.load_data()"
      ],
      "metadata": {
        "id": "kFToRNuBec-l",
        "colab": {
          "base_uri": "https://localhost:8080/"
        },
        "outputId": "c331d7fa-3545-4cdf-9eb9-2f052345e4c8"
      },
      "execution_count": 4,
      "outputs": [
        {
          "output_type": "stream",
          "name": "stdout",
          "text": [
            "Downloading data from https://www.cs.toronto.edu/~kriz/cifar-100-python.tar.gz\n",
            "169009152/169001437 [==============================] - 2s 0us/step\n",
            "169017344/169001437 [==============================] - 2s 0us/step\n"
          ]
        }
      ]
    },
    {
      "cell_type": "code",
      "source": [
        "# xem kích thược của tập dữ liệu\n",
        "print('Kích thước x_train: ', x_train.shape)\n",
        "print('Kích thước y_train: ', y_train.shape)\n",
        "print('Kích thước x_test: ', x_test.shape)\n",
        "print('Kích thước y_test: ', y_test.shape)"
      ],
      "metadata": {
        "colab": {
          "base_uri": "https://localhost:8080/"
        },
        "id": "yatDnoY5egkO",
        "outputId": "3a3851ae-40e5-498d-ed70-1c240f44550b"
      },
      "execution_count": 5,
      "outputs": [
        {
          "output_type": "stream",
          "name": "stdout",
          "text": [
            "Kích thước x_train:  (50000, 32, 32, 3)\n",
            "Kích thước y_train:  (50000, 1)\n",
            "Kích thước x_test:  (10000, 32, 32, 3)\n",
            "Kích thước y_test:  (10000, 1)\n"
          ]
        }
      ]
    },
    {
      "cell_type": "code",
      "source": [
        "#chuyển chiều của x từ 3 chiều về 2 chiều VÌ cifar10 ở đầu vào có 4 chiều để chuyển về\n",
        "# 2 chiều bằng cách 32*32*3=3072\n",
        "x_train = x_train.reshape(50000,3072)\n",
        "x_test = x_test.reshape(10000,3072)\n",
        "# ép kiểu\n",
        "x_train = x_train.astype('float32')\n",
        "x_test = x_test.astype('float32')\n",
        "#chuẩn hóa dữ liệu\n",
        "x_train /=255\n",
        "x_test /=255\n",
        "#chuyển y từ 1 class thành 10 class\n",
        "y_train = np_utils.to_categorical(y_train,100)\n",
        "y_test = np_utils.to_categorical(y_test,100)"
      ],
      "metadata": {
        "id": "YOGOzWW4fF77"
      },
      "execution_count": 6,
      "outputs": []
    },
    {
      "cell_type": "code",
      "source": [
        "#tạo mạng nơ-ron\n",
        "model = Sequential()\n",
        "model.add(Dense(512,activation='relu',input_shape=(3072,)))\n",
        "model.add(Dropout(0.2))\n",
        "model.add(Dense(1000,activation='relu'))\n",
        "model.add(Dropout(0.2))\n",
        "model.add(Dense(1000,activation='relu'))\n",
        "model.add(Dropout(0.2))\n",
        "model.add(Dense(512,activation='relu'))\n",
        "model.add(Dropout(0.2))\n",
        "model.add(Dense(100,activation='softmax'))\n",
        "model.summary()"
      ],
      "metadata": {
        "colab": {
          "base_uri": "https://localhost:8080/"
        },
        "id": "PjV8KjhTfJSj",
        "outputId": "b218cf08-a220-42d7-f708-1666fb88c660"
      },
      "execution_count": 7,
      "outputs": [
        {
          "output_type": "stream",
          "name": "stdout",
          "text": [
            "Model: \"sequential\"\n",
            "_________________________________________________________________\n",
            " Layer (type)                Output Shape              Param #   \n",
            "=================================================================\n",
            " dense (Dense)               (None, 512)               1573376   \n",
            "                                                                 \n",
            " dropout (Dropout)           (None, 512)               0         \n",
            "                                                                 \n",
            " dense_1 (Dense)             (None, 1000)              513000    \n",
            "                                                                 \n",
            " dropout_1 (Dropout)         (None, 1000)              0         \n",
            "                                                                 \n",
            " dense_2 (Dense)             (None, 1000)              1001000   \n",
            "                                                                 \n",
            " dropout_2 (Dropout)         (None, 1000)              0         \n",
            "                                                                 \n",
            " dense_3 (Dense)             (None, 512)               512512    \n",
            "                                                                 \n",
            " dropout_3 (Dropout)         (None, 512)               0         \n",
            "                                                                 \n",
            " dense_4 (Dense)             (None, 100)               51300     \n",
            "                                                                 \n",
            "=================================================================\n",
            "Total params: 3,651,188\n",
            "Trainable params: 3,651,188\n",
            "Non-trainable params: 0\n",
            "_________________________________________________________________\n"
          ]
        }
      ]
    },
    {
      "cell_type": "code",
      "source": [
        "#chạy model với số lần học là 20 và độ kiên nhẫn là 100\n",
        "model.compile(loss='categorical_crossentropy',optimizer=RMSprop(), metrics=['accuracy'])\n",
        "from keras.callbacks import EarlyStopping\n",
        "history = model.fit(x_train,y_train, epochs = 20,validation_split=0.2, batch_size = 128,callbacks=[EarlyStopping(monitor='val_loss',patience=100)], verbose = 1)"
      ],
      "metadata": {
        "colab": {
          "base_uri": "https://localhost:8080/"
        },
        "id": "xRo86Pa5fMP7",
        "outputId": "a27c2182-6a8d-4a26-ad91-835e9e3593c2"
      },
      "execution_count": 8,
      "outputs": [
        {
          "output_type": "stream",
          "name": "stdout",
          "text": [
            "Epoch 1/20\n",
            "313/313 [==============================] - 29s 88ms/step - loss: 4.4660 - accuracy: 0.0325 - val_loss: 4.2226 - val_accuracy: 0.0416\n",
            "Epoch 2/20\n",
            "313/313 [==============================] - 27s 87ms/step - loss: 4.1429 - accuracy: 0.0607 - val_loss: 4.0285 - val_accuracy: 0.0771\n",
            "Epoch 3/20\n",
            "313/313 [==============================] - 30s 95ms/step - loss: 4.0077 - accuracy: 0.0779 - val_loss: 3.9197 - val_accuracy: 0.1026\n",
            "Epoch 4/20\n",
            "313/313 [==============================] - 27s 88ms/step - loss: 3.8969 - accuracy: 0.0973 - val_loss: 3.9019 - val_accuracy: 0.1006\n",
            "Epoch 5/20\n",
            "313/313 [==============================] - 28s 88ms/step - loss: 3.8209 - accuracy: 0.1086 - val_loss: 3.7263 - val_accuracy: 0.1338\n",
            "Epoch 6/20\n",
            "313/313 [==============================] - 27s 87ms/step - loss: 3.7814 - accuracy: 0.1154 - val_loss: 3.7180 - val_accuracy: 0.1377\n",
            "Epoch 7/20\n",
            "313/313 [==============================] - 27s 88ms/step - loss: 3.7350 - accuracy: 0.1261 - val_loss: 3.6797 - val_accuracy: 0.1463\n",
            "Epoch 8/20\n",
            "313/313 [==============================] - 27s 88ms/step - loss: 3.7071 - accuracy: 0.1301 - val_loss: 3.6391 - val_accuracy: 0.1524\n",
            "Epoch 9/20\n",
            "313/313 [==============================] - 28s 88ms/step - loss: 3.6787 - accuracy: 0.1359 - val_loss: 3.6766 - val_accuracy: 0.1449\n",
            "Epoch 10/20\n",
            "313/313 [==============================] - 27s 88ms/step - loss: 3.6624 - accuracy: 0.1414 - val_loss: 3.6402 - val_accuracy: 0.1501\n",
            "Epoch 11/20\n",
            "313/313 [==============================] - 28s 88ms/step - loss: 3.6486 - accuracy: 0.1412 - val_loss: 3.6149 - val_accuracy: 0.1552\n",
            "Epoch 12/20\n",
            "313/313 [==============================] - 28s 89ms/step - loss: 3.6306 - accuracy: 0.1446 - val_loss: 3.6710 - val_accuracy: 0.1490\n",
            "Epoch 13/20\n",
            "313/313 [==============================] - 28s 88ms/step - loss: 3.6230 - accuracy: 0.1450 - val_loss: 3.6055 - val_accuracy: 0.1517\n",
            "Epoch 14/20\n",
            "313/313 [==============================] - 28s 90ms/step - loss: 3.6230 - accuracy: 0.1469 - val_loss: 3.5525 - val_accuracy: 0.1716\n",
            "Epoch 15/20\n",
            "313/313 [==============================] - 28s 89ms/step - loss: 3.6147 - accuracy: 0.1504 - val_loss: 3.6419 - val_accuracy: 0.1565\n",
            "Epoch 16/20\n",
            "313/313 [==============================] - 28s 90ms/step - loss: 3.6013 - accuracy: 0.1511 - val_loss: 3.6426 - val_accuracy: 0.1549\n",
            "Epoch 17/20\n",
            "313/313 [==============================] - 28s 89ms/step - loss: 3.6001 - accuracy: 0.1516 - val_loss: 3.7213 - val_accuracy: 0.1369\n",
            "Epoch 18/20\n",
            "313/313 [==============================] - 28s 88ms/step - loss: 3.5930 - accuracy: 0.1538 - val_loss: 3.5932 - val_accuracy: 0.1628\n",
            "Epoch 19/20\n",
            "313/313 [==============================] - 27s 88ms/step - loss: 3.5892 - accuracy: 0.1540 - val_loss: 3.6231 - val_accuracy: 0.1496\n",
            "Epoch 20/20\n",
            "313/313 [==============================] - 27s 87ms/step - loss: 3.5748 - accuracy: 0.1559 - val_loss: 3.5761 - val_accuracy: 0.1705\n"
          ]
        }
      ]
    },
    {
      "cell_type": "code",
      "source": [
        "#đánh giá chất lượng của mô hình và vẽ lại\n",
        "score = model.evaluate(x_test,y_test,verbose=0)\n",
        "print('Sai số kiểm tra là: ',score[0])\n",
        "print('Độ chính xác kiểm tra là: ',score[1])\n",
        "#vẽ đồ thị\n",
        "plt.plot(history.history['accuracy'])\n",
        "plt.plot(history.history['val_accuracy'])\n",
        "plt.title('model accuracy')\n",
        "plt.ylabel('accuracy')\n",
        "plt.xlabel('epochs')\n",
        "plt.legend(['train','Validation'])\n",
        "plt.show()"
      ],
      "metadata": {
        "colab": {
          "base_uri": "https://localhost:8080/",
          "height": 330
        },
        "id": "hVGs8H5sfPnr",
        "outputId": "70909005-9dd2-4f1c-db12-f404878be71e"
      },
      "execution_count": 9,
      "outputs": [
        {
          "output_type": "stream",
          "name": "stdout",
          "text": [
            "Sai số kiểm tra là:  3.5778889656066895\n",
            "Độ chính xác kiểm tra là:  0.17630000412464142\n"
          ]
        },
        {
          "output_type": "display_data",
          "data": {
            "text/plain": [
              "<Figure size 432x288 with 1 Axes>"
            ],
            "image/png": "[encoded data removed]"
          },
          "metadata": {
            "needs_background": "light"
          }
        }
      ]
    },
    {
      "cell_type": "code",
      "source": [
        "model.save('model_cifar100.h5')"
      ],
      "metadata": {
        "id": "B2-_14dEml3g"
      },
      "execution_count": 10,
      "outputs": []
    }
  ]
}